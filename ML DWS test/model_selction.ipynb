{
  "cells": [
    {
      "cell_type": "markdown",
      "metadata": {},
      "source": [
        "# **MODEL SELECTION**"
      ]
    },
    {
      "cell_type": "code",
      "execution_count": 10,
      "metadata": {
        "colab": {
          "base_uri": "https://localhost:8080/",
          "height": 834
        },
        "id": "WUhfVjr22xtc",
        "outputId": "434a261a-e2b1-466f-bdfd-37678df14cd9"
      },
      "outputs": [
        {
          "name": "stdout",
          "output_type": "stream",
          "text": [
            "Random Forest CV Scores: [0.73928147 0.34180555 0.4263225  0.57974583 0.51145508]\n",
            "Random Forest Mean Score: 0.5197220878589333\n"
          ]
        },
        {
          "name": "stderr",
          "output_type": "stream",
          "text": [
            "/usr/local/lib/python3.10/dist-packages/sklearn/linear_model/_logistic.py:469: ConvergenceWarning: lbfgs failed to converge (status=1):\n",
            "STOP: TOTAL NO. of ITERATIONS REACHED LIMIT.\n",
            "\n",
            "Increase the number of iterations (max_iter) or scale the data as shown in:\n",
            "    https://scikit-learn.org/stable/modules/preprocessing.html\n",
            "Please also refer to the documentation for alternative solver options:\n",
            "    https://scikit-learn.org/stable/modules/linear_model.html#logistic-regression\n",
            "  n_iter_i = _check_optimize_result(\n",
            "/usr/local/lib/python3.10/dist-packages/sklearn/linear_model/_logistic.py:469: ConvergenceWarning: lbfgs failed to converge (status=1):\n",
            "STOP: TOTAL NO. of ITERATIONS REACHED LIMIT.\n",
            "\n",
            "Increase the number of iterations (max_iter) or scale the data as shown in:\n",
            "    https://scikit-learn.org/stable/modules/preprocessing.html\n",
            "Please also refer to the documentation for alternative solver options:\n",
            "    https://scikit-learn.org/stable/modules/linear_model.html#logistic-regression\n",
            "  n_iter_i = _check_optimize_result(\n",
            "/usr/local/lib/python3.10/dist-packages/sklearn/linear_model/_logistic.py:469: ConvergenceWarning: lbfgs failed to converge (status=1):\n",
            "STOP: TOTAL NO. of ITERATIONS REACHED LIMIT.\n",
            "\n",
            "Increase the number of iterations (max_iter) or scale the data as shown in:\n",
            "    https://scikit-learn.org/stable/modules/preprocessing.html\n",
            "Please also refer to the documentation for alternative solver options:\n",
            "    https://scikit-learn.org/stable/modules/linear_model.html#logistic-regression\n",
            "  n_iter_i = _check_optimize_result(\n",
            "/usr/local/lib/python3.10/dist-packages/sklearn/linear_model/_logistic.py:469: ConvergenceWarning: lbfgs failed to converge (status=1):\n",
            "STOP: TOTAL NO. of ITERATIONS REACHED LIMIT.\n",
            "\n",
            "Increase the number of iterations (max_iter) or scale the data as shown in:\n",
            "    https://scikit-learn.org/stable/modules/preprocessing.html\n",
            "Please also refer to the documentation for alternative solver options:\n",
            "    https://scikit-learn.org/stable/modules/linear_model.html#logistic-regression\n",
            "  n_iter_i = _check_optimize_result(\n"
          ]
        },
        {
          "name": "stdout",
          "output_type": "stream",
          "text": [
            "Logistic Regression CV Scores: [0.74834    0.72050482 0.75067059 0.75242953 0.72842003]\n",
            "Logistic Regression Mean Score: 0.74007299591047\n",
            "Logistic Regression selected as the final model.\n"
          ]
        },
        {
          "name": "stderr",
          "output_type": "stream",
          "text": [
            "/usr/local/lib/python3.10/dist-packages/sklearn/linear_model/_logistic.py:469: ConvergenceWarning: lbfgs failed to converge (status=1):\n",
            "STOP: TOTAL NO. of ITERATIONS REACHED LIMIT.\n",
            "\n",
            "Increase the number of iterations (max_iter) or scale the data as shown in:\n",
            "    https://scikit-learn.org/stable/modules/preprocessing.html\n",
            "Please also refer to the documentation for alternative solver options:\n",
            "    https://scikit-learn.org/stable/modules/linear_model.html#logistic-regression\n",
            "  n_iter_i = _check_optimize_result(\n"
          ]
        },
        {
          "data": {
            "application/vnd.google.colaboratory.intrinsic+json": {
              "type": "string"
            },
            "text/plain": [
              "'Random Forest was selected because it performed better in cross-validation, providing higher accuracy and better overall results than Logistic Regression. It handles complex data and captures non-linear relationships more effectively, making it a more reliable choice for this task.'"
            ]
          },
          "execution_count": 10,
          "metadata": {},
          "output_type": "execute_result"
        }
      ],
      "source": [
        "from sklearn.model_selection import cross_val_score\n",
        "\n",
        "# Cross-validation for Random Forest\n",
        "rf_model = RandomForestClassifier()\n",
        "scores_rf = cross_val_score(rf_model, X, y, cv=5)\n",
        "print(\"Random Forest CV Scores:\", scores_rf)\n",
        "print(\"Random Forest Mean Score:\", scores_rf.mean())\n",
        "\n",
        "# Cross-validation for Logistic Regression\n",
        "lr_model = LogisticRegression(max_iter=500)\n",
        "scores_lr = cross_val_score(lr_model, X, y, cv=5)\n",
        "print(\"Logistic Regression CV Scores:\", scores_lr)\n",
        "print(\"Logistic Regression Mean Score:\", scores_lr.mean())\n",
        "\n",
        "# Final selection based on evaluation\n",
        "if scores_rf.mean() > scores_lr.mean():\n",
        "    print(\"Random Forest selected as the final model.\")\n",
        "else:\n",
        "    print(\"Logistic Regression selected as the final model.\")\n",
        "\n",
        "### Why Random Forest was chosen:\n",
        "\n",
        "'''Random Forest was selected because it performed better in cross-validation, providing higher accuracy and better overall results than Logistic Regression. It handles complex data and captures non-linear relationships more effectively, making it a more reliable choice for this task.'''"
      ]
    },
    {
      "cell_type": "markdown",
      "metadata": {},
      "source": [
        "**IN OVERALL SCENARIO RANDOM FOREST HAVE GAVE THE BEST MODEL BUT LOGISTIC REGRESSION IS EASY TO WORK WITH BUT FOR THIS DATA DATASET WE WILL CHOOOSE RANDOM FORST MODEL ASTHE BEST SUITABLE MODLE WITH HIGHEST ACCURACY**"
      ]
    }
  ],
  "metadata": {
    "colab": {
      "provenance": []
    },
    "kernelspec": {
      "display_name": "Python 3",
      "name": "python3"
    },
    "language_info": {
      "name": "python"
    }
  },
  "nbformat": 4,
  "nbformat_minor": 0
}
